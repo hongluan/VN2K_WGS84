{
 "cells": [
  {
   "cell_type": "code",
   "execution_count": null,
   "metadata": {
    "collapsed": true
   },
   "outputs": [],
   "source": [
    "#IMPORT NECESSARY LIBRARIES\n",
    "from osgeo import gdal,ogr,osr\n",
    "import os, sys"
   ]
  },
  {
   "cell_type": "code",
   "execution_count": null,
   "metadata": {
    "collapsed": true
   },
   "outputs": [],
   "source": [
    "#IMPORT SHAPEFILES\n",
    "#DEFINE THE DIRECTORY TO THE SHAPEFILE\n",
    "inshpdir = input('INPUT VECTOR FILE: ')\n",
    "#GET DRIVER BY NAME\n",
    "driver = ogr.GetDriverByName('ESRI Shapefile')\n",
    "#OPEN SHAPEFILE\n",
    "dataset = driver.Open(inshpdir)\n",
    "layer = dataset.GetLayer()"
   ]
  },
  {
   "cell_type": "code",
   "execution_count": null,
   "metadata": {
    "collapsed": true
   },
   "outputs": [],
   "source": [
    "#DEFINE VN2000 (CAN SKIP IF SOURCE DATA IS NOT IN VN2000)\n",
    "#DEFINE CENTRAL MERIDIAN\n",
    "centralmerid = input('PLEASE INPUT CENTRAL MERIDIAN OF INPUT FILE: ')\n",
    "#DEFINE SCALE\n",
    "scale = input('PLEASE CHOOSE SCALE OF INPUT FILE (0.9996/0.9999): ')\n",
    "#DEFINE VN2000 PROJECTION\n",
    "prj = '''PROJCS[\"VN-2000 {} /\", \n",
    "    GEOGCS[\"VN-2000\",_\n",
    "        DATUM[\"Vietnam_2000\",\n",
    "            SPHEROID[\"WGS 84\",6378137,298.257223563,\n",
    "                AUTHORITY[\"EPSG\",\"7030\"]],\n",
    "            TOWGS84[-191.90441429,-39.30318279,-111.45032835,-0.00928836,0.01975479,-0.00427372,1.000000252906278],\n",
    "            AUTHORITY[\"EPSG\",\"6756\"]],\n",
    "        PRIMEM[\"Greenwich\",0,\n",
    "            AUTHORITY[\"EPSG\",\"8901\"]],\n",
    "        UNIT[\"degree\",0.0174532925199433,\n",
    "            AUTHORITY[\"EPSG\",\"9122\"]],\n",
    "        AUTHORITY[\"EPSG\",\"4756\"]],\n",
    "    PROJECTION[\"Transverse_Mercator\"],\n",
    "    PARAMETER[\"latitude_of_origin\",0],\n",
    "    PARAMETER[\"central_meridian\",{}],\n",
    "    PARAMETER[\"scale_factor\",{}],\n",
    "    PARAMETER[\"false_easting\",500000],\n",
    "    PARAMETER[\"false_northing\",0],\n",
    "    UNIT[\"metre\",1,\n",
    "        AUTHORITY[\"EPSG\",\"9001\"]],\n",
    "    AXIS[\"Easting\",EAST],\n",
    "    AXIS[\"Northing\",NORTH],\n",
    "    AUTHORITY[\"EPSG\",\"3405\"]]'''.format(centralmerid,centralmerid,scale)"
   ]
  },
  {
   "cell_type": "code",
   "execution_count": null,
   "metadata": {
    "collapsed": true
   },
   "outputs": [],
   "source": [
    "#DEFINE TRANSFORMATION \n",
    "vnspatref = osr.SpatialReference()\n",
    "vnspatref.ImportFromWkt(prj)\n",
    "wgsspatref = osr.SpatialReference()\n",
    "wgsspatref.ImportFromEPSG(4326)\n",
    "transform = osr.CoordinateTransformation(vnspatref,wgsspatref)"
   ]
  },
  {
   "cell_type": "code",
   "execution_count": null,
   "metadata": {
    "collapsed": true
   },
   "outputs": [],
   "source": [
    "#REPROJECT SHAPEFILES\n",
    "#DEFINE OUTPUT REPROJECTED SHAPEFILE\n",
    "newfulname = inshpdir.split('.')[-2] + '_GEOWGS.shp'    \n",
    "newname = inshpdir.split('.')[-2].split('\\\\')[-1]\n",
    "driver = ogr.GetDriverByName('ESRI Shapefile')\n",
    "outdataset = driver.CreateDataSource(newfulname)\n",
    "outLayer = outdataset.CreateLayer(newname+'_GEOWGS',geom_type = ogr.wkbPolygon) "
   ]
  },
  {
   "cell_type": "code",
   "execution_count": null,
   "metadata": {
    "collapsed": true
   },
   "outputs": [],
   "source": [
    "#GET FIELD DEFINITION FOR OUTPUT SHAPEFILE\n",
    "inLayerDefn = layer.GetLayerDefn()    \n",
    "for i in range(0, inLayerDefn.GetFieldCount()):\n",
    "    fieldDefn = inLayerDefn.GetFieldDefn(i)\n",
    "    outLayer.CreateField(fieldDefn)\n",
    "outLayerDefn = outLayer.GetLayerDefn()"
   ]
  },
  {
   "cell_type": "code",
   "execution_count": null,
   "metadata": {
    "collapsed": true
   },
   "outputs": [],
   "source": [
    "#REPROJECT SHAPEFILES\n",
    "for feature in layer:    \n",
    "    geom = feature.GetGeometryRef()        \n",
    "    geom.Transform(transform)    \n",
    "    outFeature = ogr.Feature(outLayerDefn)    \n",
    "    outFeature.SetGeometry(geom)        \n",
    "    for i in range(0,outLayerDefn.GetFieldCount()):            \n",
    "        outFeature.SetField(outLayerDefn.GetFieldDefn(i).GetNameRef(), feature.GetField(i))    \n",
    "    outLayer.CreateFeature(outFeature)    \n",
    "    outFeature = None          \n",
    "wgsspatref.MorphToESRI()"
   ]
  },
  {
   "cell_type": "code",
   "execution_count": null,
   "metadata": {
    "collapsed": true
   },
   "outputs": [],
   "source": [
    "#CREATE PROJECTION FILE (.PRJ)\n",
    " newfulnamenoext = newfulname.split('.')[-2]\n",
    "file = open(newfulnamenoext+'.prj', 'w') \n",
    "file.write(wgsspatref.ExportToWkt())\n",
    "file.close()"
   ]
  }
 ],
 "metadata": {
  "kernelspec": {
   "display_name": "Python 3",
   "language": "python",
   "name": "python3"
  },
  "language_info": {
   "codemirror_mode": {
    "name": "ipython",
    "version": 3
   },
   "file_extension": ".py",
   "mimetype": "text/x-python",
   "name": "python",
   "nbconvert_exporter": "python",
   "pygments_lexer": "ipython3",
   "version": "3.6.3"
  }
 },
 "nbformat": 4,
 "nbformat_minor": 2
}
